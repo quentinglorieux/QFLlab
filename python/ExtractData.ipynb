{
 "cells": [
  {
   "cell_type": "code",
   "execution_count": 46,
   "metadata": {},
   "outputs": [],
   "source": [
    "from pyalex import Works, Authors, Sources, Institutions, Concepts, Publishers, Funders"
   ]
  },
  {
   "cell_type": "code",
   "execution_count": 47,
   "metadata": {},
   "outputs": [],
   "source": [
    "import pyalex\n",
    "\n",
    "pyalex.config.email = \"quentin.glorieux@lkb.upmc.fr\""
   ]
  },
  {
   "cell_type": "code",
   "execution_count": 106,
   "metadata": {},
   "outputs": [],
   "source": [
    "import re\n",
    "\n",
    "def get_openalex_id(input_identifier):\n",
    "    authors = Authors()\n",
    "    if \"0-\" in input_identifier:  # Assuming it's an ORCID number\n",
    "       orcid_url = f\"https://orcid.org/{input_identifier}\"\n",
    "       openalex_url = authors[orcid_url]['id']\n",
    "    else:\n",
    "        name_result = authors.search_filter(display_name=input_identifier).get()\n",
    "        openalex_url = name_result[0]['id']\n",
    "        \n",
    "    pattern = re.compile(r'A(\\d+)')\n",
    "    match = pattern.search(openalex_url)\n",
    "    if match:\n",
    "        extracted_id = match.group(1)\n",
    "        return 'A' + extracted_id\n",
    "    else:\n",
    "        return    \n"
   ]
  },
  {
   "cell_type": "markdown",
   "metadata": {},
   "source": [
    "## Fetch"
   ]
  },
  {
   "cell_type": "code",
   "execution_count": 111,
   "metadata": {},
   "outputs": [],
   "source": [
    "import pandas as pd\n",
    "\n",
    "pager = (\n",
    "    Works()\n",
    "    .filter(author={\"id\": \"A5024990264\"})\n",
    "    .filter(has_doi=True, primary_location={\"source\": {\"has_issn\": True}})\n",
    "    .select(\n",
    "        [\n",
    "            \"id\",\n",
    "            \"doi\",\n",
    "            \"title\",\n",
    "            \"publication_year\",\n",
    "            \"ids\",\n",
    "            \"type\",\n",
    "            \"type_crossref\",\n",
    "            \"open_access\",\n",
    "            \"primary_location\",\n",
    "            \"authorships\",\n",
    "            \"biblio\",\n",
    "            \"concepts\",\n",
    "        ]\n",
    "    )\n",
    "    .sort(publication_year=\"desc\")\n",
    "    .paginate(per_page=100)\n",
    ")\n",
    "list = []\n",
    "for page in pager:\n",
    "    list = list + page\n",
    "df0 = pd.DataFrame(list)\n",
    "df = df0"
   ]
  },
  {
   "cell_type": "markdown",
   "metadata": {},
   "source": [
    "## Code to export the publication list"
   ]
  },
  {
   "cell_type": "code",
   "execution_count": 121,
   "metadata": {},
   "outputs": [],
   "source": [
    "import json\n",
    "\n",
    "\n",
    "# Define a function to extract author information\n",
    "def extract_author_info(row):\n",
    "    match = re.search(r'physrev(.+?)(\\d+)', row[\"doi\"])\n",
    "    if match:\n",
    "        if match.group(1)[0] not in ('l', 'r', 'x') : \n",
    "            journal_abbreviation = match.group(1)[0].capitalize()\n",
    "        else: \n",
    "            journal_abbreviation = \"\"\n",
    "    else:\n",
    "        journal_abbreviation = \"\"\n",
    "    return {\n",
    "        \"title\": row[\"title\"],\n",
    "        \"authors\": [\n",
    "            {\"name\": entry[\"author\"][\"display_name\"], \"orcid\": entry[\"author\"][\"orcid\"]}\n",
    "            for entry in row[\"authorships\"]\n",
    "        ],\n",
    "        \"link\": {\n",
    "            \"url\": row[\"doi\"],\n",
    "            \"display\": row[\"primary_location\"][\"source\"][\"display_name\"]\n",
    "            + \" \"\n",
    "            + str(row[\"biblio\"][\"volume\"])\n",
    "            + \" \"\n",
    "            + str(row[\"biblio\"][\"issue\"])\n",
    "            + \" (\"\n",
    "            + str(row[\"publication_year\"])\n",
    "            + \").\",\n",
    "        },\n",
    "        \"orcid\": [entry[\"author\"][\"orcid\"] for entry in row[\"authorships\"]],\n",
    "        \"doi\": row[\"doi\"],\n",
    "        \"is_oa\": row[\"open_access\"][\"is_oa\"],\n",
    "        \"oa_url\": row[\"open_access\"][\"oa_url\"],\n",
    "        \"publication_year\": row[\"publication_year\"],\n",
    "        \"journal\": row[\"primary_location\"][\"source\"][\"display_name\"],\n",
    "        \"journal_abbreviation\": journal_abbreviation,\n",
    "        \"biblio\": row[\"biblio\"],\n",
    "    }\n",
    "\n",
    "\n",
    "# Apply the function to each row and create a list of dictionaries\n",
    "author_info_list = df.apply(extract_author_info, axis=1).tolist()\n",
    "\n",
    "# Convert the list of dictionaries to a JSON string\n",
    "json_string = json.dumps(author_info_list, indent=2)\n",
    "\n",
    "# Save the JSON string to a file\n",
    "with open(\"../_data/openalex_list.json\", \"w\") as file:\n",
    "    file.write(json_string)"
   ]
  },
  {
   "cell_type": "markdown",
   "metadata": {},
   "source": [
    "## Tests"
   ]
  },
  {
   "cell_type": "code",
   "execution_count": null,
   "metadata": {},
   "outputs": [],
   "source": [
    "# IDs\n",
    "expanded_df = pd.json_normalize(df['ids'])\n",
    "result_df = pd.concat([df, expanded_df], axis=1)\n",
    "result_df = result_df.drop(['ids', 'pmid', 'pmcid'], axis=1)\n",
    "\n",
    "#Location\n",
    "expanded_df = pd.json_normalize(df['primary_location'])\n",
    "result_df = pd.concat([df, expanded_df], axis=1)\n",
    "result_df = result_df.drop(['primary_location', 'license', 'version'], axis=1)\n"
   ]
  }
 ],
 "metadata": {
  "kernelspec": {
   "display_name": "base",
   "language": "python",
   "name": "python3"
  },
  "language_info": {
   "codemirror_mode": {
    "name": "ipython",
    "version": 3
   },
   "file_extension": ".py",
   "mimetype": "text/x-python",
   "name": "python",
   "nbconvert_exporter": "python",
   "pygments_lexer": "ipython3",
   "version": "3.11.4"
  }
 },
 "nbformat": 4,
 "nbformat_minor": 2
}
